{
 "cells": [
  {
   "cell_type": "code",
   "execution_count": 18,
   "metadata": {},
   "outputs": [],
   "source": [
    "from flask import Flask\n",
    "from flask import url_for, render_template, request, redirect\n",
    "import mysql.connector as mysql\n",
    "\n",
    "app = Flask(__name__)\n",
    "\n"
   ]
  },
  {
   "cell_type": "code",
   "execution_count": 19,
   "metadata": {},
   "outputs": [],
   "source": [
    "session = {}\n",
    "session['username'] = None;"
   ]
  },
  {
   "cell_type": "code",
   "execution_count": 20,
   "metadata": {},
   "outputs": [],
   "source": [
    "con = mysql.connect(user = 'root', password = 'password', \n",
    "                    host = '127.0.0.1', database = 'task_manager')\n",
    "cur = con.cursor(dictionary=True)"
   ]
  },
  {
   "cell_type": "code",
   "execution_count": 21,
   "metadata": {},
   "outputs": [],
   "source": [
    "@app.route('/home')\n",
    "def index():\n",
    "    if session['username'] == None:\n",
    "        return render_template('home.html')\n",
    "    else:\n",
    "        return render_template('home_logged_in.html')"
   ]
  },
  {
   "cell_type": "code",
   "execution_count": 22,
   "metadata": {},
   "outputs": [],
   "source": [
    "@app.route('/signup', methods=['GET', 'POST'])\n",
    "def sign_up():\n",
    "    if request.method == \"POST\":\n",
    "        details = request.form\n",
    "        username = details['username']\n",
    "        password = details['password']\n",
    "        cur.execute(\"INSERT INTO users_list (username, password) VALUES (%s, %s)\", (username, password))\n",
    "        con.commit()\n",
    "        cur.close()\n",
    "        return redirect('login')\n",
    "    return render_template('sign_up.html')"
   ]
  },
  {
   "cell_type": "code",
   "execution_count": 23,
   "metadata": {},
   "outputs": [],
   "source": [
    "@app.route('/login', methods=['GET', 'POST'])\n",
    "def login():\n",
    "    if request.method == \"POST\":\n",
    "        details = request.form\n",
    "        username = details['username']\n",
    "        password = details['password']\n",
    "        cur.execute(\"SELECT * FROM users_list\")\n",
    "        users = cur.fetchall()\n",
    "        for i in users:\n",
    "            if i['username'] == username:\n",
    "                if i['password'] == password:\n",
    "                    session['username'] = username\n",
    "                    return redirect('home')\n",
    "                else:\n",
    "                    return ('Неправильный пароль.')\n",
    "            else:\n",
    "                return ('Такого пользователя нет.')            \n",
    "    return render_template('login.html')"
   ]
  },
  {
   "cell_type": "code",
   "execution_count": null,
   "metadata": {},
   "outputs": [
    {
     "name": "stdout",
     "output_type": "stream",
     "text": [
      " * Serving Flask app \"__main__\" (lazy loading)\n",
      " * Environment: production\n",
      "   WARNING: This is a development server. Do not use it in a production deployment.\n",
      "   Use a production WSGI server instead.\n",
      " * Debug mode: off\n"
     ]
    },
    {
     "name": "stderr",
     "output_type": "stream",
     "text": [
      " * Running on http://127.0.0.1:5000/ (Press CTRL+C to quit)\n",
      "127.0.0.1 - - [09/Dec/2019 13:42:12] \"GET /home HTTP/1.1\" 200 -\n",
      "127.0.0.1 - - [09/Dec/2019 13:42:16] \"GET /login HTTP/1.1\" 200 -\n",
      "127.0.0.1 - - [09/Dec/2019 13:42:25] \"POST /login HTTP/1.1\" 302 -\n",
      "127.0.0.1 - - [09/Dec/2019 13:42:25] \"GET /home HTTP/1.1\" 200 -\n",
      "127.0.0.1 - - [09/Dec/2019 13:42:37] \"GET /login HTTP/1.1\" 200 -\n",
      "127.0.0.1 - - [09/Dec/2019 13:42:46] \"POST /login HTTP/1.1\" 200 -\n",
      "127.0.0.1 - - [09/Dec/2019 13:42:50] \"GET /login HTTP/1.1\" 200 -\n",
      "127.0.0.1 - - [09/Dec/2019 13:42:56] \"POST /login HTTP/1.1\" 200 -\n"
     ]
    }
   ],
   "source": [
    "if __name__ == '__main__':\n",
    "    app.run(debug=False)"
   ]
  },
  {
   "cell_type": "code",
   "execution_count": 8,
   "metadata": {},
   "outputs": [
    {
     "data": {
      "text/plain": [
       "[{'id_user': 1, 'password': 'йцукен', 'username': 'fishowl'},\n",
       " {'id_user': 2, 'password': 'фывапро', 'username': 'mcqueen'},\n",
       " {'id_user': 3, 'password': '65432', 'username': 'ejounya'},\n",
       " {'id_user': 4, 'password': 'ambragog', 'username': 'seresny'},\n",
       " {'id_user': 5, 'password': 'dvadva', 'username': 'rasras'},\n",
       " {'id_user': 6, 'password': 'halal', 'username': 'allal'},\n",
       " {'id_user': 7, 'password': 'fsadfasfd', 'username': 'fsdfs'},\n",
       " {'id_user': 8, 'password': 'sup', 'username': 'miso'},\n",
       " {'id_user': 9, 'password': 'tozhe', 'username': 'serezha'},\n",
       " {'id_user': 10, 'password': 'ff', 'username': 'fdsf'},\n",
       " {'id_user': 11, 'password': 'sevor', 'username': 'masha'},\n",
       " {'id_user': 12, 'password': 'sgory', 'username': 'her'}]"
      ]
     },
     "execution_count": 8,
     "metadata": {},
     "output_type": "execute_result"
    }
   ],
   "source": [
    "cur.execute(\"SELECT * FROM users_list\")\n",
    "res = cur.fetchall()\n",
    "res"
   ]
  },
  {
   "cell_type": "code",
   "execution_count": 57,
   "metadata": {},
   "outputs": [],
   "source": [
    "cur.execute(\"DELETE FROM users_list WHERE id_user > 3\")"
   ]
  },
  {
   "cell_type": "code",
   "execution_count": 17,
   "metadata": {},
   "outputs": [
    {
     "name": "stdout",
     "output_type": "stream",
     "text": [
      "10\n"
     ]
    }
   ],
   "source": [
    "for i in res:\n",
    "    if i['username'] == 'fdsf':\n",
    "        print(i['id_user'])"
   ]
  },
  {
   "cell_type": "code",
   "execution_count": 11,
   "metadata": {},
   "outputs": [
    {
     "data": {
      "text/plain": [
       "[{'id_user': 1, 'password': 'йцукен', 'username': 'fishowl'},\n",
       " {'id_user': 2, 'password': 'фывапро', 'username': 'mcqueen'},\n",
       " {'id_user': 3, 'password': '65432', 'username': 'ejounya'},\n",
       " {'id_user': 4, 'password': 'ambragog', 'username': 'seresny'},\n",
       " {'id_user': 5, 'password': 'dvadva', 'username': 'rasras'},\n",
       " {'id_user': 6, 'password': 'halal', 'username': 'allal'},\n",
       " {'id_user': 7, 'password': 'fsadfasfd', 'username': 'fsdfs'},\n",
       " {'id_user': 8, 'password': 'sup', 'username': 'miso'},\n",
       " {'id_user': 9, 'password': 'tozhe', 'username': 'serezha'},\n",
       " {'id_user': 10, 'password': 'ff', 'username': 'fdsf'},\n",
       " {'id_user': 11, 'password': 'sevor', 'username': 'masha'},\n",
       " {'id_user': 12, 'password': 'sgory', 'username': 'her'}]"
      ]
     },
     "execution_count": 11,
     "metadata": {},
     "output_type": "execute_result"
    }
   ],
   "source": [
    "res"
   ]
  },
  {
   "cell_type": "code",
   "execution_count": null,
   "metadata": {},
   "outputs": [],
   "source": []
  }
 ],
 "metadata": {
  "kernelspec": {
   "display_name": "Python 3",
   "language": "python",
   "name": "python3"
  },
  "language_info": {
   "codemirror_mode": {
    "name": "ipython",
    "version": 3
   },
   "file_extension": ".py",
   "mimetype": "text/x-python",
   "name": "python",
   "nbconvert_exporter": "python",
   "pygments_lexer": "ipython3",
   "version": "3.6.8"
  }
 },
 "nbformat": 4,
 "nbformat_minor": 2
}
