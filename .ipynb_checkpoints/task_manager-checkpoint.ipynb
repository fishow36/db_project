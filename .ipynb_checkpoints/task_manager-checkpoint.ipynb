{
 "cells": [
  {
   "cell_type": "code",
   "execution_count": 8,
   "metadata": {},
   "outputs": [
    {
     "name": "stdout",
     "output_type": "stream",
     "text": [
      "Requirement already satisfied: mysql in c:\\users\\sony\\anaconda3\\lib\\site-packages\n",
      "Requirement already satisfied: mysqlclient in c:\\users\\sony\\anaconda3\\lib\\site-packages (from mysql)\n"
     ]
    },
    {
     "name": "stderr",
     "output_type": "stream",
     "text": [
      "You are using pip version 9.0.1, however version 19.3.1 is available.\n",
      "You should consider upgrading via the 'python -m pip install --upgrade pip' command.\n"
     ]
    }
   ],
   "source": [
    "#!pip install mysql\n",
    "#!pip install mysql-connector-python-rf\n",
    "#import warnings\n",
    "#warnings.filterwarnings(\"ignore\")"
   ]
  },
  {
   "cell_type": "code",
   "execution_count": 1,
   "metadata": {},
   "outputs": [],
   "source": [
    "from flask import Flask\n",
    "from flask import url_for, render_template, request, redirect\n",
    "import mysql.connector as mysql\n",
    "\n"
   ]
  },
  {
   "cell_type": "code",
   "execution_count": 557,
   "metadata": {},
   "outputs": [],
   "source": [
    "session = {}\n",
    "session['username'] = None\n"
   ]
  },
  {
   "cell_type": "code",
   "execution_count": 576,
   "metadata": {},
   "outputs": [],
   "source": [
    "app = Flask(__name__)"
   ]
  },
  {
   "cell_type": "code",
   "execution_count": 577,
   "metadata": {},
   "outputs": [],
   "source": [
    "con = mysql.connect(user = 'root', password = 'password', \n",
    "                    host = '127.0.0.1', database = 'db_proj', #database = 'task_manager'\n",
    "                   auth_plugin='mysql_native_password')\n",
    "cur = con.cursor(dictionary=True)"
   ]
  },
  {
   "cell_type": "code",
   "execution_count": 578,
   "metadata": {},
   "outputs": [],
   "source": [
    "@app.route('/home', methods=['GET', 'POST'])\n",
    "def index():\n",
    "    if session['username'] == None:\n",
    "        return render_template('home.html')\n",
    "    else:\n",
    "        tasks = []\n",
    "        importance = []\n",
    "        statuses = []\n",
    "        ids = []\n",
    "        base_string = \"SELECT id, task, importance, status FROM (SELECT user_tasks.id_user_task as \\'id\\', tasks_list.task_name as \\'task\\', importance_list.importance_name as \\'importance\\',\\\n",
    "status_list.status_name as \\'status\\' FROM user_tasks, users_list, tasks_list, status_list, db_proj.importance_list \\\n",
    "WHERE users_list.username = '\" + session['username'] + \"' and users_list.id_user = user_tasks.id_user \\\n",
    "and tasks_list.id_task = user_tasks.id_task and status_list.id_status = user_tasks.id_status \\\n",
    "and importance_list.id_importance = user_tasks.id_importance) as t\"\n",
    "        if request.method == \"POST\":\n",
    "            det = request.form\n",
    "##            with open ('test.txt', 'a') as f:\n",
    "##                f.write(det['importance1'])\n",
    "            importance_list = []\n",
    "            status_list = []\n",
    "            if 'importance1' in det:\n",
    "                importance_list.append(det['importance1'])\n",
    "            if 'importance2' in det:\n",
    "                importance_list.append(det['importance2'])\n",
    "            if 'importance3' in det:\n",
    "                importance_list.append(det['importance3'])\n",
    "    \n",
    "            if 'status1' in det:\n",
    "                status_list.append(det['status1'])\n",
    "            if 'status2' in det:\n",
    "                status_list.append(det['status2'])\n",
    "            if 'status3' in det:\n",
    "                status_list.append(det['status3'])\n",
    "           \n",
    "            if not importance_list and not status_list:\n",
    "                 \n",
    "                cur.execute(base_string)\n",
    "                result = cur.fetchall()\n",
    "            else:\n",
    "                base_string += ' WHERE ('\n",
    "                if importance_list:\n",
    "                    for i, element in enumerate(importance_list):\n",
    "                        base_string = base_string + 'importance = \\'' + element + '\\''\n",
    "                        if i != len(importance_list) - 1:\n",
    "                            base_string += ' OR '\n",
    "                        else:\n",
    "                            base_string += ')'\n",
    "                if status_list:\n",
    "                    if importance_list:\n",
    "                        base_string += ' AND ('\n",
    "                    for i, element in enumerate(status_list):\n",
    "                        base_string = base_string + 'status = \\'' + element + '\\''\n",
    "                        if i != len(status_list) - 1:\n",
    "                            base_string += ' OR '\n",
    "                        else:\n",
    "                            base_string += ')'\n",
    "            cur.execute(base_string)  \n",
    "            result = cur.fetchall()\n",
    "        else:\n",
    "            cur.execute(base_string)\n",
    "            result = cur.fetchall()\n",
    "\n",
    "        for res in result:\n",
    "            ids.append(res['id'])\n",
    "            tasks.append(res['task'])\n",
    "            importance.append(res['importance'])\n",
    "            statuses.append(res['status'])\n",
    "        return render_template('home_logged_in.html', tasks=tasks, importance=importance, statuses=statuses, ids = ids)"
   ]
  },
  {
   "cell_type": "code",
   "execution_count": 579,
   "metadata": {},
   "outputs": [],
   "source": [
    "@app.route('/signup', methods=['GET', 'POST'])\n",
    "def sign_up():\n",
    "    if request.method == \"GET\":\n",
    "        details = request.form\n",
    "        username = details['username']\n",
    "        password = details['password']\n",
    "        cur.execute(\"INSERT INTO users_list (username, password) VALUES (%s, %s)\", (username, password))\n",
    "        con.commit()\n",
    "        cur.close()\n",
    "        return redirect('login')\n",
    "    return render_template('sign_up.html')"
   ]
  },
  {
   "cell_type": "code",
   "execution_count": 580,
   "metadata": {},
   "outputs": [],
   "source": [
    "@app.route('/login', methods=['GET', 'POST'])\n",
    "def login():\n",
    "    if request.method == \"POST\":\n",
    "        details = request.form\n",
    "        username = details['username']\n",
    "        password = details['password']\n",
    "        cur.execute(\"SELECT * FROM users_list\")\n",
    "        users = cur.fetchall()\n",
    "        user_exists = 0\n",
    "        for i in users:\n",
    "            if i['username'] == username:\n",
    "                user_exists = 1\n",
    "                if i['password'] == password:\n",
    "                    session['username'] = username\n",
    "                    return redirect('home')\n",
    "                else:\n",
    "                    return ('Неправильный пароль.')\n",
    "        if user_exists == 1:\n",
    "            return redirect ('home')\n",
    "        else:\n",
    "            return ('Такого пользователя пока нет.')\n",
    "    return render_template('login.html')"
   ]
  },
  {
   "cell_type": "code",
   "execution_count": 581,
   "metadata": {},
   "outputs": [],
   "source": [
    "@app.route('/new_task', methods=['GET', 'POST'])\n",
    "def new_task(): \n",
    "    if request.method == \"POST\":\n",
    "        details = request.form\n",
    "        cur.execute(\"SELECT id_user FROM users_list WHERE username = '\" + session['username'] + \"'\")\n",
    "        res = cur.fetchone()\n",
    "        id_user = res['id_user']\n",
    "\n",
    "##        cur.execute(\"SELECT id_task FROM tasks_list WHERE task_name = '\" + details['tasks'] + \"'\")\n",
    "##        res = cur.fetchone()\n",
    "##       id_task = res['id_task']\n",
    "        \n",
    "        cur.execute(\"SELECT id_status FROM status_list WHERE status_name = '\" + details['status'] + \"'\")\n",
    "        res = cur.fetchone()\n",
    "        id_status = res['id_status']\n",
    "        \n",
    "        cur.execute(\"SELECT id_importance FROM importance_list WHERE importance_name = '\" + details['importance'] + \"'\")\n",
    "        res = cur.fetchone()\n",
    "        id_importance = res['id_importance']\n",
    "        \n",
    "        cur.execute(\"SELECT task_name, id_task FROM tasks_list\")\n",
    "        res = cur.fetchall()\n",
    "        task_exists = 0\n",
    "        for i in res:\n",
    "            if i['task_name'] == details['tasks']:\n",
    "                task_exists = 1\n",
    "                id_task = i['id_task']\n",
    "        if task_exists == 0:        \n",
    "            cur.execute(\"INSERT INTO tasks_list (task_name) VALUES ('\" + details['tasks'] + \"')\")\n",
    "            cur.execute(\"SELECT id_task FROM tasks_list WHERE task_name = '\" + details['tasks'] + \"'\")\n",
    "            res = cur.fetchone()\n",
    "            id_task = res['id_task']\n",
    "        data = (id_user, id_task, id_status, id_importance)\n",
    "        cur.execute(\"INSERT INTO user_tasks (id_user, id_task, id_status, id_importance) VALUES (%s, %s, %s, %s)\", data)\n",
    "        con.commit()\n",
    "        return redirect('home')\n",
    "    importance = []\n",
    "    status = []\n",
    "    cur.execute(\"SELECT importance_name FROM importance_list\")\n",
    "    res = cur.fetchall()\n",
    "    for i in res:\n",
    "        importance.append(i['importance_name'])\n",
    "    cur.execute(\"SELECT status_name FROM status_list\")\n",
    "    res = cur.fetchall()\n",
    "    for i in res:\n",
    "        status.append(i['status_name'])\n",
    "    return render_template('new_task.html', status = status, importance = importance)"
   ]
  },
  {
   "cell_type": "code",
   "execution_count": 582,
   "metadata": {},
   "outputs": [],
   "source": [
    "@app.route('/update', methods=['GET', 'POST'])\n",
    "def update_task():\n",
    "    if request.method == \"GET\":\n",
    "        task_id = request.args.get('id')\n",
    "    if request.method == \"POST\":\n",
    "        details = request.form\n",
    "        cur.execute(\"SELECT id_user FROM users_list WHERE username = '\" + session['username'] + \"'\")\n",
    "        res = cur.fetchone()\n",
    "        id_user = res['id_user']\n",
    "        \n",
    "        cur.execute(\"SELECT id_status FROM status_list WHERE status_name = '\" + details['status'] + \"'\")\n",
    "        res = cur.fetchone()\n",
    "        id_status = res['id_status']\n",
    "        \n",
    "        cur.execute(\"SELECT id_importance FROM importance_list WHERE importance_name = '\" + details['importance'] + \"'\")\n",
    "        res = cur.fetchone()\n",
    "        id_importance = res['id_importance']\n",
    "        \n",
    "        #cur.execute('SET SQL_SAFE_UPDATES = 0') # Это чтоб давал апдейтить, возможно тут не пригодится, в воркбенче было надо\n",
    "        cur.execute(\"UPDATE user_tasks SET id_status = \" + id_status + \", id_importance = \" + id_importance +\n",
    "                    \"WHERE id_user_task =\" + task_id)\n",
    "        #cur.execute('SET SQL_SAFE_UPDATES = 1') # Это чтоб вернуть запрет на всяческие апдейты непредвиденные))\n",
    "        con.commit()\n",
    "        return redirect('home')\n",
    "    \n",
    "    importance = []\n",
    "    status = []\n",
    "    cur.execute(\"SELECT importance_name FROM importance_list\")\n",
    "    res = cur.fetchall()\n",
    "    for i in res:\n",
    "        importance.append(i['importance_name'])\n",
    "    cur.execute(\"SELECT status_name FROM status_list\")\n",
    "    res = cur.fetchall()\n",
    "    for i in res:\n",
    "        status.append(i['status_name'])\n",
    "    return render_template('update_task.html', status = status, importance = importance)"
   ]
  },
  {
   "cell_type": "code",
   "execution_count": 583,
   "metadata": {},
   "outputs": [],
   "source": [
    "@app.route('/delete', methods=['POST', 'GET'])\n",
    "def delete():\n",
    "    if request.method == \"GET\":\n",
    "        task_id = request.args.get('id')\n",
    "        cur.execute(\"DELETE FROM user_tasks WHERE id_user_task = '\" + task_id + \"'\")\n",
    "        con.commit()\n",
    "        return redirect('home')\n",
    "    else:\n",
    "        return('this page is meant to delete something')\n",
    "        "
   ]
  },
  {
   "cell_type": "code",
   "execution_count": null,
   "metadata": {},
   "outputs": [
    {
     "name": "stdout",
     "output_type": "stream",
     "text": [
      " * Serving Flask app \"__main__\" (lazy loading)\n",
      " * Environment: production\n",
      "   WARNING: This is a development server. Do not use it in a production deployment.\n",
      "   Use a production WSGI server instead.\n",
      " * Debug mode: off\n"
     ]
    },
    {
     "name": "stderr",
     "output_type": "stream",
     "text": [
      " * Running on http://127.0.0.1:5000/ (Press CTRL+C to quit)\n",
      "127.0.0.1 - - [25/Dec/2019 02:43:39] \"GET /home HTTP/1.1\" 200 -\n",
      "127.0.0.1 - - [25/Dec/2019 02:43:41] \"GET /update?id=14 HTTP/1.1\" 200 -\n",
      "[2019-12-25 02:43:46,743] ERROR in app: Exception on /update [POST]\n",
      "Traceback (most recent call last):\n",
      "  File \"/usr/local/lib/python3.6/dist-packages/flask/app.py\", line 2446, in wsgi_app\n",
      "    response = self.full_dispatch_request()\n",
      "  File \"/usr/local/lib/python3.6/dist-packages/flask/app.py\", line 1951, in full_dispatch_request\n",
      "    rv = self.handle_user_exception(e)\n",
      "  File \"/usr/local/lib/python3.6/dist-packages/flask/app.py\", line 1820, in handle_user_exception\n",
      "    reraise(exc_type, exc_value, tb)\n",
      "  File \"/usr/local/lib/python3.6/dist-packages/flask/_compat.py\", line 39, in reraise\n",
      "    raise value\n",
      "  File \"/usr/local/lib/python3.6/dist-packages/flask/app.py\", line 1949, in full_dispatch_request\n",
      "    rv = self.dispatch_request()\n",
      "  File \"/usr/local/lib/python3.6/dist-packages/flask/app.py\", line 1935, in dispatch_request\n",
      "    return self.view_functions[rule.endpoint](**req.view_args)\n",
      "  File \"<ipython-input-582-af857fb42170>\", line 21, in update_task\n",
      "    \"WHERE id_user_task =\" + task_id)\n",
      "TypeError: must be str, not int\n",
      "127.0.0.1 - - [25/Dec/2019 02:43:46] \"POST /update?id=14 HTTP/1.1\" 500 -\n"
     ]
    }
   ],
   "source": [
    "if __name__ == '__main__':\n",
    "    app.run(debug=False)"
   ]
  },
  {
   "cell_type": "code",
   "execution_count": 393,
   "metadata": {},
   "outputs": [
    {
     "data": {
      "text/plain": [
       "[{'id_user_task': 1,\n",
       "  'importance': 'очень важно',\n",
       "  'status': 'в процессе',\n",
       "  'task': 'вырезать снежинку'},\n",
       " {'id_user_task': 3,\n",
       "  'importance': 'очень важно',\n",
       "  'status': 'не начато',\n",
       "  'task': 'сделать домашку'},\n",
       " {'id_user_task': 14,\n",
       "  'importance': 'не очень важно',\n",
       "  'status': 'не начато',\n",
       "  'task': 'сделать домашку'},\n",
       " {'id_user_task': 16,\n",
       "  'importance': 'важно',\n",
       "  'status': 'не начато',\n",
       "  'task': 'записаться к стоматологу'},\n",
       " {'id_user_task': 17,\n",
       "  'importance': 'очень важно',\n",
       "  'status': 'в процессе',\n",
       "  'task': 'приготовить ужин'},\n",
       " {'id_user_task': 18,\n",
       "  'importance': 'не очень важно',\n",
       "  'status': 'в процессе',\n",
       "  'task': 'приготовить ужин'},\n",
       " {'id_user_task': 19,\n",
       "  'importance': 'не очень важно',\n",
       "  'status': 'в процессе',\n",
       "  'task': 'приготовить ужин'},\n",
       " {'id_user_task': 20,\n",
       "  'importance': 'очень важно',\n",
       "  'status': 'в процессе',\n",
       "  'task': 'перебрать рис'},\n",
       " {'id_user_task': 21,\n",
       "  'importance': 'не очень важно',\n",
       "  'status': 'не начато',\n",
       "  'task': 'помыть полы'},\n",
       " {'id_user_task': 22,\n",
       "  'importance': 'не очень важно',\n",
       "  'status': 'не начато',\n",
       "  'task': 'сделать домашку'}]"
      ]
     },
     "execution_count": 393,
     "metadata": {},
     "output_type": "execute_result"
    }
   ],
   "source": [
    "tasks = []\n",
    "importance = []\n",
    "statuses = []\n",
    "\n",
    "cur.execute(\"SELECT user_tasks.id_user_task, tasks_list.task_name as \\'task\\', importance_list.importance_name as \\'importance\\',\\\n",
    "status_list.status_name as \\'status\\' FROM user_tasks, users_list, tasks_list, status_list, db_proj.importance_list \\\n",
    "WHERE users_list.username = '\" + session['username'] + \"' and users_list.id_user = user_tasks.id_user \\\n",
    "and tasks_list.id_task = user_tasks.id_task and status_list.id_status = user_tasks.id_status \\\n",
    "and importance_list.id_importance = user_tasks.id_importance\")\n",
    "result = cur.fetchall()\n",
    "result"
   ]
  },
  {
   "cell_type": "code",
   "execution_count": 231,
   "metadata": {},
   "outputs": [
    {
     "data": {
      "text/plain": [
       "[{'importance': 'очень важно',\n",
       "  'status': 'не начато',\n",
       "  'task': 'сделать домашку'},\n",
       " {'importance': 'не очень важно',\n",
       "  'status': 'не начато',\n",
       "  'task': 'сделать домашку'}]"
      ]
     },
     "execution_count": 231,
     "metadata": {},
     "output_type": "execute_result"
    }
   ],
   "source": [
    "cur.execute(\"SELECT tasks_list.task_name as \\'task\\', importance_list.importance_name as \\'importance\\',\\\n",
    "status_list.status_name as \\'status\\' FROM user_tasks, users_list, tasks_list, status_list, db_proj.importance_list \\\n",
    "WHERE users_list.username = '\" + 'fishowl' + \"' and users_list.id_user = user_tasks.id_user \\\n",
    "and tasks_list.id_task = user_tasks.id_task and status_list.id_status = user_tasks.id_status \\\n",
    "and importance_list.id_importance = user_tasks.id_importance\")\n",
    "result = cur.fetchall()\n",
    "result"
   ]
  },
  {
   "cell_type": "code",
   "execution_count": 101,
   "metadata": {},
   "outputs": [
    {
     "name": "stdout",
     "output_type": "stream",
     "text": [
      "SELECT task, importance, status FROM (SELECT tasks_list.task_name as 'task', importance_list.importance_name as 'importance',status_list.status_name as 'status' FROM user_tasks, users_list, tasks_list, status_list, db_proj.importance_list WHERE users_list.username = 'fishowl' and users_list.id_user = user_tasks.id_user and tasks_list.id_task = user_tasks.id_task and status_list.id_status = user_tasks.id_status and importance_list.id_importance = user_tasks.id_importance) as t WHERE (importance = 'важно' OR importance = 'очень важно') AND (status = 'в процессе')\n"
     ]
    }
   ],
   "source": [
    "importance_list = ['важно', 'очень важно']\n",
    "status_list = ['в процессе']\n",
    "base_string = \"SELECT task, importance, status FROM (SELECT tasks_list.task_name as \\'task\\', importance_list.importance_name as \\'importance\\',\\\n",
    "status_list.status_name as \\'status\\' FROM user_tasks, users_list, tasks_list, status_list, db_proj.importance_list \\\n",
    "WHERE users_list.username = '\" + session['username'] + \"' and users_list.id_user = user_tasks.id_user \\\n",
    "and tasks_list.id_task = user_tasks.id_task and status_list.id_status = user_tasks.id_status \\\n",
    "and importance_list.id_importance = user_tasks.id_importance) as t\"\n",
    "\n",
    "if not importance_list and not status_list:\n",
    "    cur.execute(base_string)\n",
    "else:\n",
    "    base_string += ' WHERE ('\n",
    "    if importance_list:\n",
    "        for i, element in enumerate(importance_list):\n",
    "            base_string = base_string + 'importance = \\'' + element + '\\''\n",
    "            if i != len(importance_list) - 1:\n",
    "                base_string += ' OR '\n",
    "            else:\n",
    "                base_string += ')'\n",
    "    if status_list:\n",
    "        if importance_list:\n",
    "            base_string += ' AND ('\n",
    "        for i, element in enumerate(status_list):\n",
    "            base_string = base_string + 'status = \\'' + element + '\\''\n",
    "            if i != len(status_list) - 1:\n",
    "                base_string += ' OR '\n",
    "            else:\n",
    "                base_string += ')'\n",
    "        \n",
    "cur.execute(base_string)  \n",
    "result = cur.fetchall()\n",
    "\n",
    "print(base_string)"
   ]
  },
  {
   "cell_type": "code",
   "execution_count": 102,
   "metadata": {},
   "outputs": [
    {
     "name": "stdout",
     "output_type": "stream",
     "text": [
      "[{'task': 'вырезать снежинку', 'importance': 'очень важно', 'status': 'в процессе'}]\n"
     ]
    }
   ],
   "source": [
    "print(result)"
   ]
  },
  {
   "cell_type": "code",
   "execution_count": 83,
   "metadata": {},
   "outputs": [
    {
     "data": {
      "text/plain": [
       "[{'importance': 'важно',\n",
       "  'status': 'не начато',\n",
       "  'task': 'записаться к стоматологу'}]"
      ]
     },
     "execution_count": 83,
     "metadata": {},
     "output_type": "execute_result"
    }
   ],
   "source": [
    "cur.execute(\"SELECT task, importance, status FROM (SELECT tasks_list.task_name as 'task', importance_list.importance_name as 'importance',status_list.status_name as 'status' FROM user_tasks, users_list, tasks_list, status_list, db_proj.importance_list WHERE users_list.username = 'fishowl' and users_list.id_user = user_tasks.id_user and tasks_list.id_task = user_tasks.id_task and status_list.id_status = user_tasks.id_status and importance_list.id_importance = user_tasks.id_importance) as t WHERE importance = 'важно'\")\n",
    "result = cur.fetchall()\n",
    "result"
   ]
  },
  {
   "cell_type": "code",
   "execution_count": 380,
   "metadata": {},
   "outputs": [
    {
     "data": {
      "text/plain": [
       "[{'id_importance': 3,\n",
       "  'id_status': 2,\n",
       "  'id_task': 5,\n",
       "  'id_user': 1,\n",
       "  'id_user_task': 1},\n",
       " {'id_importance': 3,\n",
       "  'id_status': 3,\n",
       "  'id_task': 5,\n",
       "  'id_user': 2,\n",
       "  'id_user_task': 2},\n",
       " {'id_importance': 3,\n",
       "  'id_status': 1,\n",
       "  'id_task': 2,\n",
       "  'id_user': 1,\n",
       "  'id_user_task': 3},\n",
       " {'id_importance': 1,\n",
       "  'id_status': 1,\n",
       "  'id_task': 2,\n",
       "  'id_user': 1,\n",
       "  'id_user_task': 14},\n",
       " {'id_importance': 3,\n",
       "  'id_status': 1,\n",
       "  'id_task': 4,\n",
       "  'id_user': 2,\n",
       "  'id_user_task': 15},\n",
       " {'id_importance': 2,\n",
       "  'id_status': 1,\n",
       "  'id_task': 4,\n",
       "  'id_user': 1,\n",
       "  'id_user_task': 16},\n",
       " {'id_importance': 3,\n",
       "  'id_status': 2,\n",
       "  'id_task': 3,\n",
       "  'id_user': 1,\n",
       "  'id_user_task': 17},\n",
       " {'id_importance': 1,\n",
       "  'id_status': 2,\n",
       "  'id_task': 3,\n",
       "  'id_user': 1,\n",
       "  'id_user_task': 18},\n",
       " {'id_importance': 1,\n",
       "  'id_status': 2,\n",
       "  'id_task': 3,\n",
       "  'id_user': 1,\n",
       "  'id_user_task': 19},\n",
       " {'id_importance': 3,\n",
       "  'id_status': 2,\n",
       "  'id_task': 9,\n",
       "  'id_user': 1,\n",
       "  'id_user_task': 20},\n",
       " {'id_importance': 1,\n",
       "  'id_status': 1,\n",
       "  'id_task': 10,\n",
       "  'id_user': 1,\n",
       "  'id_user_task': 21},\n",
       " {'id_importance': 1,\n",
       "  'id_status': 1,\n",
       "  'id_task': 2,\n",
       "  'id_user': 1,\n",
       "  'id_user_task': 22}]"
      ]
     },
     "execution_count": 380,
     "metadata": {},
     "output_type": "execute_result"
    }
   ],
   "source": [
    "cur.execute(\"SELECT * from user_tasks\")\n",
    "res = cur.fetchall()\n",
    "res"
   ]
  },
  {
   "cell_type": "code",
   "execution_count": 82,
   "metadata": {},
   "outputs": [
    {
     "name": "stdout",
     "output_type": "stream",
     "text": [
      "4\n"
     ]
    }
   ],
   "source": [
    "task_exists = 0\n",
    "for i in res:\n",
    "    if i['task_name'] == 'записаться к стоматологу':\n",
    "        task_exists = 1\n",
    "        id_task = i['id_task']\n",
    "print(id_task)"
   ]
  },
  {
   "cell_type": "code",
   "execution_count": 132,
   "metadata": {},
   "outputs": [],
   "source": [
    "tasks = ['aba', 'huh', 'meow']\n",
    "session['tasks'] = tasks"
   ]
  },
  {
   "cell_type": "code",
   "execution_count": 135,
   "metadata": {},
   "outputs": [
    {
     "data": {
      "text/plain": [
       "['aba', 'huh', 'meow', 'hz']"
      ]
     },
     "execution_count": 135,
     "metadata": {},
     "output_type": "execute_result"
    }
   ],
   "source": [
    "session['tasks']"
   ]
  },
  {
   "cell_type": "code",
   "execution_count": null,
   "metadata": {},
   "outputs": [],
   "source": []
  }
 ],
 "metadata": {
  "kernelspec": {
   "display_name": "Python 3",
   "language": "python",
   "name": "python3"
  },
  "language_info": {
   "codemirror_mode": {
    "name": "ipython",
    "version": 3
   },
   "file_extension": ".py",
   "mimetype": "text/x-python",
   "name": "python",
   "nbconvert_exporter": "python",
   "pygments_lexer": "ipython3",
   "version": "3.6.8"
  }
 },
 "nbformat": 4,
 "nbformat_minor": 2
}
