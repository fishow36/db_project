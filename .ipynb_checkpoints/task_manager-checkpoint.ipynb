{
 "cells": [
  {
   "cell_type": "code",
   "execution_count": 8,
   "metadata": {},
   "outputs": [
    {
     "name": "stdout",
     "output_type": "stream",
     "text": [
      "Requirement already satisfied: mysql in c:\\users\\sony\\anaconda3\\lib\\site-packages\n",
      "Requirement already satisfied: mysqlclient in c:\\users\\sony\\anaconda3\\lib\\site-packages (from mysql)\n"
     ]
    },
    {
     "name": "stderr",
     "output_type": "stream",
     "text": [
      "You are using pip version 9.0.1, however version 19.3.1 is available.\n",
      "You should consider upgrading via the 'python -m pip install --upgrade pip' command.\n"
     ]
    }
   ],
   "source": [
    "#!pip install mysql\n",
    "#!pip install mysql-connector-python-rf\n",
    "#import warnings\n",
    "#warnings.filterwarnings(\"ignore\")"
   ]
  },
  {
   "cell_type": "code",
   "execution_count": 1,
   "metadata": {},
   "outputs": [],
   "source": [
    "from flask import Flask\n",
    "from flask import url_for, render_template, request, redirect\n",
    "import mysql.connector as mysql\n",
    "\n"
   ]
  },
  {
   "cell_type": "code",
   "execution_count": 2,
   "metadata": {},
   "outputs": [],
   "source": [
    "con = mysql.connect(user = 'root', password = 'password', \n",
    "                    host = '127.0.0.1', database = 'db_proj', #database = 'task_manager'\n",
    "                   auth_plugin='mysql_native_password')\n",
    "cur = con.cursor(dictionary=True)"
   ]
  },
  {
   "cell_type": "code",
   "execution_count": 43,
   "metadata": {},
   "outputs": [],
   "source": [
    "session = {}\n",
    "session['username'] = None"
   ]
  },
  {
   "cell_type": "code",
   "execution_count": 44,
   "metadata": {},
   "outputs": [],
   "source": [
    "app = Flask(__name__)"
   ]
  },
  {
   "cell_type": "code",
   "execution_count": 45,
   "metadata": {},
   "outputs": [],
   "source": [
    "@app.route('/home', methods=['GET', 'POST'])\n",
    "def index():\n",
    "    if session['username'] == None:\n",
    "        return render_template('home.html')\n",
    "    else:\n",
    "        tasks = []\n",
    "        importance = []\n",
    "        statuses = []\n",
    "        ids = []\n",
    "        base_string = \"SELECT id, task, importance, status FROM (SELECT user_tasks.id_user_task as \\'id\\', tasks_list.task_name as \\'task\\', importance_list.importance_name as \\'importance\\',\\\n",
    "status_list.status_name as \\'status\\' FROM user_tasks, users_list, tasks_list, status_list, db_proj.importance_list \\\n",
    "WHERE users_list.username = '\" + session['username'] + \"' and users_list.id_user = user_tasks.id_user \\\n",
    "and tasks_list.id_task = user_tasks.id_task and status_list.id_status = user_tasks.id_status \\\n",
    "and importance_list.id_importance = user_tasks.id_importance) as t\"\n",
    "        if request.method == \"POST\":\n",
    "            det = request.form\n",
    "##            with open ('test.txt', 'a') as f:\n",
    "##                f.write(det['importance1'])\n",
    "            importance_list = []\n",
    "            status_list = []\n",
    "            if 'importance1' in det:\n",
    "                importance_list.append(det['importance1'])\n",
    "            if 'importance2' in det:\n",
    "                importance_list.append(det['importance2'])\n",
    "            if 'importance3' in det:\n",
    "                importance_list.append(det['importance3'])\n",
    "    \n",
    "            if 'status1' in det:\n",
    "                status_list.append(det['status1'])\n",
    "            if 'status2' in det:\n",
    "                status_list.append(det['status2'])\n",
    "            if 'status3' in det:\n",
    "                status_list.append(det['status3'])\n",
    "           \n",
    "            if not importance_list and not status_list:\n",
    "                 \n",
    "                cur.execute(base_string)\n",
    "                result = cur.fetchall()\n",
    "            else:\n",
    "                base_string += ' WHERE ('\n",
    "                if importance_list:\n",
    "                    for i, element in enumerate(importance_list):\n",
    "                        base_string = base_string + 'importance = \\'' + element + '\\''\n",
    "                        if i != len(importance_list) - 1:\n",
    "                            base_string += ' OR '\n",
    "                        else:\n",
    "                            base_string += ')'\n",
    "                if status_list:\n",
    "                    if importance_list:\n",
    "                        base_string += ' AND ('\n",
    "                    for i, element in enumerate(status_list):\n",
    "                        base_string = base_string + 'status = \\'' + element + '\\''\n",
    "                        if i != len(status_list) - 1:\n",
    "                            base_string += ' OR '\n",
    "                        else:\n",
    "                            base_string += ')'\n",
    "            cur.execute(base_string)  \n",
    "            result = cur.fetchall()\n",
    "        else:\n",
    "            cur.execute(base_string)\n",
    "            result = cur.fetchall()\n",
    "        data = []\n",
    "        for res in result:\n",
    "            elem = [res['task'], res['importance'], res['status'], res['id']]\n",
    "            data.append(elem)\n",
    "        return render_template('home_logged_in.html', data = data, username = session['username'])"
   ]
  },
  {
   "cell_type": "code",
   "execution_count": 46,
   "metadata": {},
   "outputs": [],
   "source": [
    "@app.route('/friends_tasks', methods=['GET', 'POST'])\n",
    "def my_friends_tasks():\n",
    "    tasks = []\n",
    "    importance = []\n",
    "    statuses = []\n",
    "    ids = []\n",
    "    \n",
    "    # еще джойн (получаем список юзернеймов друзей юзера):\n",
    "    cur.execute(\"SELECT username from users_list \\\n",
    "                JOIN (select id2 from users_list, user_relations \\\n",
    "                where id1 = id_user and username = '\" + session['username'] + \"') as f_id \\\n",
    "                ON id2 = id_user\")  \n",
    "    res = cur.fetchall()\n",
    "    friends_list = [result['username'] for result in res]\n",
    "    \n",
    "    if friends_list == []: # если нет никаких друзей\n",
    "        return render_template('no_friends.html')\n",
    "    \n",
    "    else: # если есть хотя бы один друг\n",
    "        base_string = \"SELECT username, task, importance, status FROM \\\n",
    "        (SELECT username, tasks_list.task_name as 'task', \\\n",
    "        importance_list.importance_name as 'importance', status_list.status_name as 'status' \\\n",
    "        FROM user_tasks, users_list, tasks_list, status_list, db_proj.importance_list \\\n",
    "        WHERE (\"\n",
    "        for id_f, f_username in enumerate(friends_list):\n",
    "            base_string = base_string + \"users_list.username = '\" + f_username + \"'\"\n",
    "            if id_f != len(friends_list) - 1:\n",
    "                base_string += ' OR '\n",
    "            else:\n",
    "                base_string += ')'\n",
    "        end_of_subquery = \" and users_list.id_user = user_tasks.id_user \\\n",
    "        and tasks_list.id_task = user_tasks.id_task and status_list.id_status = user_tasks.id_status \\\n",
    "        and importance_list.id_importance = user_tasks.id_importance) as t\"\n",
    "        base_string += end_of_subquery\n",
    "        \n",
    "        if request.method == \"POST\":\n",
    "            det = request.form\n",
    "            importance_list = []\n",
    "            status_list = []\n",
    "            friend = det['friend']\n",
    "        \n",
    "            if 'importance1' in det:\n",
    "                importance_list.append(det['importance1'])\n",
    "            if 'importance2' in det:\n",
    "                importance_list.append(det['importance2'])\n",
    "            if 'importance3' in det:\n",
    "                importance_list.append(det['importance3'])\n",
    "    \n",
    "            if 'status1' in det:\n",
    "                status_list.append(det['status1'])\n",
    "            if 'status2' in det:\n",
    "                status_list.append(det['status2'])\n",
    "            if 'status3' in det:\n",
    "                status_list.append(det['status3'])\n",
    "           \n",
    "            if not importance_list and not status_list and friend == 'all':            \n",
    "                cur.execute(base_string)\n",
    "                result = cur.fetchall()\n",
    "            else:\n",
    "                base_string += ' WHERE ('\n",
    "                if importance_list:\n",
    "                    for i, element in enumerate(importance_list):\n",
    "                        base_string = base_string + \"importance = '\" + element + \"'\"\n",
    "                        if i != len(importance_list) - 1:\n",
    "                            base_string += ' OR '\n",
    "                        else:\n",
    "                            base_string += ')'\n",
    "                if status_list:\n",
    "                    if importance_list:\n",
    "                        base_string += ' AND ('\n",
    "                    for i, element in enumerate(status_list):\n",
    "                        base_string = base_string + \"status = '\" + element + \"'\"\n",
    "                        if i != len(status_list) - 1:\n",
    "                            base_string += ' OR '\n",
    "                        else:\n",
    "                            base_string += ')'\n",
    "                if friend != 'all':\n",
    "                    if importance_list or status_list:\n",
    "                        base_string = base_string + \" AND (username = '\" + friend + \"')\"\n",
    "                    else:\n",
    "                        base_string = base_string + \"username = '\" + friend + \"')\"\n",
    "                        \n",
    "            cur.execute(base_string)  \n",
    "            result = cur.fetchall()\n",
    "        else:\n",
    "            cur.execute(base_string)\n",
    "            result = cur.fetchall()\n",
    "        data = []\n",
    "        for res in result:\n",
    "            elem = [res['task'], res['importance'], res['status'], res['username']]\n",
    "            data.append(elem)\n",
    "\n",
    "        return render_template('friends_tasks.html', data = data, friends = friends_list)"
   ]
  },
  {
   "cell_type": "code",
   "execution_count": 47,
   "metadata": {},
   "outputs": [],
   "source": [
    "@app.route('/signup', methods=['GET', 'POST'])\n",
    "def sign_up():\n",
    "    if request.method == \"POST\":\n",
    "        details = request.form\n",
    "        username = details['username']\n",
    "        password = details['password']\n",
    "        cur.execute(\"INSERT INTO users_list (username, password) VALUES (%s, %s)\", (username, password))\n",
    "        con.commit()\n",
    "        return redirect('login')\n",
    "    return render_template('sign_up.html')"
   ]
  },
  {
   "cell_type": "code",
   "execution_count": 48,
   "metadata": {},
   "outputs": [],
   "source": [
    "@app.route('/login', methods=['GET', 'POST'])\n",
    "def login():\n",
    "    if request.method == \"POST\":\n",
    "        username = request.form['username']\n",
    "        password = request.form['password']\n",
    "        cur.execute(\"SELECT id_user, username, password FROM users_list WHERE username = '\" + username + \"'\")\n",
    "        result = cur.fetchone()\n",
    "        if result:\n",
    "            if result['password'] == password:\n",
    "                session['username'] = username\n",
    "                session['id'] = result['id_user']\n",
    "                return redirect('home')\n",
    "            else:\n",
    "                return render_template('wrong_password.html')\n",
    "        else:\n",
    "            return render_template('no_user.html')\n",
    "    return render_template('login.html')"
   ]
  },
  {
   "cell_type": "code",
   "execution_count": 49,
   "metadata": {},
   "outputs": [],
   "source": [
    "@app.route('/new_task', methods=['GET', 'POST'])\n",
    "def new_task(): \n",
    "    if request.method == \"POST\":\n",
    "        details = request.form\n",
    "        cur.execute(\"SELECT id_user FROM users_list WHERE username = '\" + session['username'] + \"'\")\n",
    "        res = cur.fetchone()\n",
    "        id_user = res['id_user']\n",
    "        \n",
    "        cur.execute(\"SELECT id_status FROM status_list WHERE status_name = '\" + details['status'] + \"'\")\n",
    "        res = cur.fetchone()\n",
    "        id_status = res['id_status']\n",
    "        \n",
    "        cur.execute(\"SELECT id_importance FROM importance_list WHERE importance_name = '\" + details['importance'] + \"'\")\n",
    "        res = cur.fetchone()\n",
    "        id_importance = res['id_importance']\n",
    "        \n",
    "        cur.execute(\"SELECT task_name, id_task FROM tasks_list\")\n",
    "        res = cur.fetchall()\n",
    "        task_exists = 0\n",
    "        for i in res:\n",
    "            if i['task_name'] == details['tasks']:\n",
    "                task_exists = 1\n",
    "                id_task = i['id_task']\n",
    "        if task_exists == 0:        \n",
    "            cur.execute(\"INSERT INTO tasks_list (task_name) VALUES ('\" + details['tasks'] + \"')\")\n",
    "            cur.execute(\"SELECT id_task FROM tasks_list WHERE task_name = '\" + details['tasks'] + \"'\")\n",
    "            res = cur.fetchone()\n",
    "            id_task = res['id_task']\n",
    "        data = (id_user, id_task, id_status, id_importance)\n",
    "        cur.execute(\"INSERT INTO user_tasks (id_user, id_task, id_status, id_importance) VALUES (%s, %s, %s, %s)\", data)\n",
    "        con.commit()\n",
    "        return redirect('home')\n",
    "    importance = []\n",
    "    status = []\n",
    "    cur.execute(\"SELECT importance_name FROM importance_list\")\n",
    "    res = cur.fetchall()\n",
    "    for i in res:\n",
    "        importance.append(i['importance_name'])\n",
    "    cur.execute(\"SELECT status_name FROM status_list\")\n",
    "    res = cur.fetchall()\n",
    "    for i in res:\n",
    "        status.append(i['status_name'])\n",
    "    return render_template('new_task.html', status = status, importance = importance)"
   ]
  },
  {
   "cell_type": "code",
   "execution_count": 50,
   "metadata": {},
   "outputs": [],
   "source": [
    "@app.route('/update', methods=['GET', 'POST'])\n",
    "def update_task():\n",
    "    user_task_id = request.args.get('id') # должно быть в этом месте\n",
    "    if request.method == \"GET\":\n",
    "        # ура, джойн!:\n",
    "        cur.execute(\"select task_name from tasks_list join user_tasks on \\\n",
    "        user_tasks.id_task = tasks_list.id_task and id_user_task = \" + user_task_id)\n",
    "        res = cur.fetchone()\n",
    "        task = res['task_name']\n",
    "    if request.method == \"POST\":\n",
    "        details = request.form\n",
    "        \n",
    "        cur.execute(\"SELECT id_status FROM status_list WHERE status_name = '\" + details['status'] + \"'\")\n",
    "        res = cur.fetchone()\n",
    "        id_status = res['id_status']\n",
    "        \n",
    "        cur.execute(\"SELECT id_importance FROM importance_list WHERE importance_name = '\" + details['importance'] + \"'\")\n",
    "        res = cur.fetchone()\n",
    "        id_importance = res['id_importance']\n",
    "        \n",
    "        cur.execute(\"UPDATE user_tasks SET id_status = \" + str(id_status) + \", id_importance = \" + str(id_importance) + \" \\\n",
    "        WHERE id_user_task = \" + str(user_task_id))\n",
    "        con.commit()\n",
    "        return redirect('home')\n",
    "    \n",
    "    importance = []\n",
    "    status = []\n",
    "    cur.execute(\"SELECT importance_name FROM importance_list\")\n",
    "    res = cur.fetchall()\n",
    "    for i in res:\n",
    "        importance.append(i['importance_name'])\n",
    "    cur.execute(\"SELECT status_name FROM status_list\")\n",
    "    res = cur.fetchall()\n",
    "    for i in res:\n",
    "        status.append(i['status_name'])\n",
    "    return render_template('update_task.html', status = status, importance = importance, task = task)"
   ]
  },
  {
   "cell_type": "code",
   "execution_count": 51,
   "metadata": {},
   "outputs": [],
   "source": [
    "@app.route('/delete', methods=['POST', 'GET'])\n",
    "def delete():\n",
    "    if request.args.get('id'):\n",
    "        task_id = request.args.get('id')\n",
    "        cur.execute(\"DELETE FROM user_tasks WHERE id_user_task = '\" + task_id + \"'\")\n",
    "        con.commit()\n",
    "        return redirect('home')\n",
    "    else:\n",
    "        return('this page is meant to delete something')        "
   ]
  },
  {
   "cell_type": "code",
   "execution_count": 52,
   "metadata": {},
   "outputs": [],
   "source": [
    "@app.route('/friends', methods = ['POST', 'GET'])\n",
    "def friends():\n",
    "    cur.execute(\"SELECT id2 from user_relations WHERE id1 = '\" + session['id'] + \"'\")\n",
    "    result = cur.fetchall()\n",
    "    requests = []\n",
    "   \n",
    "    cur.execute(\"SELECT username from users_list \\\n",
    "                JOIN (select id2 from users_list, user_relations \\\n",
    "                where id1 = id_user and username = '\" + session['username'] + \"') as f_id \\\n",
    "                ON id2 = id_user\")  \n",
    "    res = cur.fetchall()\n",
    "    friends_usernames = [result['username'] for result in res]\n",
    "    \n",
    "    cur.execute(\"SELECT friend_requests FROM users_list WHERE id_user = '\" + session['id'] + \"'\")\n",
    "    req_number = cur.fetchone()['friend_requests']\n",
    "    if req_number > 0:\n",
    "        cur.execute(\"SELECT id_from FROM friend_requests_list WHERE id_to = '\" + session['id'] + \"'\")\n",
    "        result = cur.fetchall()\n",
    "        for i in result:\n",
    "            cur.execute(\"SELECT id_user, username FROM users_list WHERE id_user = '\" + str(i['id_from']) + \"'\")\n",
    "            user_data = []\n",
    "            res = cur.fetchone()\n",
    "            user_data.append(res['id_user'])\n",
    "            user_data.append(res['username'])\n",
    "            requests.append(user_data)\n",
    "    return render_template('friends.html', usernames = friends_usernames, requests = requests)"
   ]
  },
  {
   "cell_type": "code",
   "execution_count": 53,
   "metadata": {},
   "outputs": [],
   "source": [
    "@app.route('/send_request', methods = [\"POST\", \"GET\"])\n",
    "def send_request():\n",
    "    if request.args.get('username'):\n",
    "        username = request.args.get('username')\n",
    "        cur.execute(\"SELECT id_user FROM users_list WHERE username = '\" + username + \"'\")\n",
    "        res = cur.fetchone()\n",
    "        if res:\n",
    "            id_friend = str(res['id_user'])\n",
    "            cur.execute(\"SELECT friend_requests FROM users_list WHERE id_user = '\" + id_friend + \"'\")\n",
    "            req_number = cur.fetchone()['friend_requests']\n",
    "            req_number = str(req_number + 1)\n",
    "            cur.execute(\"UPDATE users_list SET friend_requests = '\" + req_number + \"' WHERE id_user = '\" + id_friend + \"'\")\n",
    "            cur.execute(\"INSERT INTO friend_requests_list (id_from, id_to) VALUES (%s, %s)\", (session['id'], id_friend))\n",
    "            con.commit()\n",
    "            return redirect('/friends')\n",
    "        else:\n",
    "            return render_template('no_user.html')\n",
    "    else:    \n",
    "    \n",
    "        return ('Не получил юзернейм.')"
   ]
  },
  {
   "cell_type": "code",
   "execution_count": 54,
   "metadata": {},
   "outputs": [],
   "source": [
    "@app.route('/reply_to_request', methods = [\"POST\", \"GET\"])\n",
    "def reply_to_request():\n",
    "    if request.args.get('friend_req'):\n",
    "        id_from = str(request.args.get('id_from'))\n",
    "        if request.args.get('friend_req') == 'Принять':\n",
    "            cur.execute(\"INSERT INTO user_relations (id1, id2) VALUES (%s, %s)\", (session['id'], id_from))\n",
    "            cur.execute(\"INSERT INTO user_relations (id1, id2) VALUES (%s, %s)\", (id_from, session['id']))\n",
    "        cur.execute(\"DELETE FROM friend_requests_list WHERE id_from = %s AND id_to = %s\", (id_from, session['id']))\n",
    "        cur.execute(\"SELECT friend_requests FROM users_list WHERE id_user = '\" + session['id'] + \"'\")\n",
    "        req_number = cur.fetchone()['friend_requests']\n",
    "        req_number = str(req_number - 1)\n",
    "        cur.execute(\"UPDATE users_list SET friend_requests = '\" + req_number + \"' WHERE id_user = '\" + session['id'] + \"'\")\n",
    "        con.commit()\n",
    "        return redirect('/friends')\n",
    "    else:\n",
    "        return ('You should not be here')"
   ]
  },
  {
   "cell_type": "code",
   "execution_count": null,
   "metadata": {},
   "outputs": [
    {
     "name": "stdout",
     "output_type": "stream",
     "text": [
      " * Serving Flask app \"__main__\" (lazy loading)\n",
      " * Environment: production\n",
      "   WARNING: This is a development server. Do not use it in a production deployment.\n",
      "   Use a production WSGI server instead.\n",
      " * Debug mode: off\n"
     ]
    },
    {
     "name": "stderr",
     "output_type": "stream",
     "text": [
      " * Running on http://127.0.0.1:5000/ (Press CTRL+C to quit)\n",
      "127.0.0.1 - - [26/Dec/2019 23:40:13] \"GET /home HTTP/1.1\" 200 -\n",
      "127.0.0.1 - - [26/Dec/2019 23:40:14] \"GET /login HTTP/1.1\" 200 -\n",
      "127.0.0.1 - - [26/Dec/2019 23:40:15] \"POST /login HTTP/1.1\" 302 -\n",
      "127.0.0.1 - - [26/Dec/2019 23:40:15] \"GET /home HTTP/1.1\" 200 -\n",
      "127.0.0.1 - - [26/Dec/2019 23:40:18] \"GET /login HTTP/1.1\" 200 -\n",
      "127.0.0.1 - - [26/Dec/2019 23:40:27] \"POST /login HTTP/1.1\" 302 -\n",
      "127.0.0.1 - - [26/Dec/2019 23:40:27] \"GET /home HTTP/1.1\" 200 -\n",
      "127.0.0.1 - - [26/Dec/2019 23:42:15] \"GET /new_task HTTP/1.1\" 200 -\n",
      "127.0.0.1 - - [26/Dec/2019 23:42:17] \"GET /home HTTP/1.1\" 200 -\n",
      "127.0.0.1 - - [26/Dec/2019 23:54:04] \"GET /signup HTTP/1.1\" 200 -\n",
      "127.0.0.1 - - [26/Dec/2019 23:54:41] \"POST /signup HTTP/1.1\" 302 -\n",
      "127.0.0.1 - - [26/Dec/2019 23:54:41] \"GET /login HTTP/1.1\" 200 -\n",
      "127.0.0.1 - - [26/Dec/2019 23:54:49] \"POST /login HTTP/1.1\" 302 -\n",
      "127.0.0.1 - - [26/Dec/2019 23:54:49] \"GET /home HTTP/1.1\" 200 -\n"
     ]
    }
   ],
   "source": [
    "if __name__ == '__main__':\n",
    "    app.run(debug=False)"
   ]
  },
  {
   "cell_type": "code",
   "execution_count": null,
   "metadata": {},
   "outputs": [],
   "source": [
    "cur.execute(\"SELECT * FROM users_list\")\n",
    "result = cur.fetchall()\n",
    "result"
   ]
  },
  {
   "cell_type": "code",
   "execution_count": 196,
   "metadata": {},
   "outputs": [
    {
     "data": {
      "text/plain": [
       "[{'id_from': 1, 'id_request': 1, 'id_to': 3}]"
      ]
     },
     "execution_count": 196,
     "metadata": {},
     "output_type": "execute_result"
    }
   ],
   "source": [
    "cur.execute(\"SELECT * FROM friend_requests_list\")\n",
    "result = cur.fetchall()\n",
    "result"
   ]
  },
  {
   "cell_type": "code",
   "execution_count": 236,
   "metadata": {},
   "outputs": [],
   "source": [
    "cur.execute(\"UPDATE users_list SET friend_requests = 0\")"
   ]
  },
  {
   "cell_type": "code",
   "execution_count": 179,
   "metadata": {},
   "outputs": [],
   "source": [
    "cur.execute(\"DELETE FROM friend_requests_list WHERE id_request > 1\")"
   ]
  },
  {
   "cell_type": "code",
   "execution_count": 237,
   "metadata": {},
   "outputs": [],
   "source": [
    "con.commit()"
   ]
  },
  {
   "cell_type": "code",
   "execution_count": 76,
   "metadata": {},
   "outputs": [],
   "source": [
    "con.close()"
   ]
  },
  {
   "cell_type": "code",
   "execution_count": 290,
   "metadata": {},
   "outputs": [
    {
     "data": {
      "text/plain": [
       "[{'friend_requests': 0}]"
      ]
     },
     "execution_count": 290,
     "metadata": {},
     "output_type": "execute_result"
    }
   ],
   "source": [
    "result = cur.fetchall()\n",
    "result"
   ]
  },
  {
   "cell_type": "code",
   "execution_count": null,
   "metadata": {},
   "outputs": [],
   "source": []
  }
 ],
 "metadata": {
  "kernelspec": {
   "display_name": "Python 3",
   "language": "python",
   "name": "python3"
  },
  "language_info": {
   "codemirror_mode": {
    "name": "ipython",
    "version": 3
   },
   "file_extension": ".py",
   "mimetype": "text/x-python",
   "name": "python",
   "nbconvert_exporter": "python",
   "pygments_lexer": "ipython3",
   "version": "3.6.8"
  }
 },
 "nbformat": 4,
 "nbformat_minor": 2
}
