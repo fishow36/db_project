{
 "cells": [
  {
   "cell_type": "code",
   "execution_count": 8,
   "metadata": {},
   "outputs": [
    {
     "name": "stdout",
     "output_type": "stream",
     "text": [
      "Requirement already satisfied: mysql in c:\\users\\sony\\anaconda3\\lib\\site-packages\n",
      "Requirement already satisfied: mysqlclient in c:\\users\\sony\\anaconda3\\lib\\site-packages (from mysql)\n"
     ]
    },
    {
     "name": "stderr",
     "output_type": "stream",
     "text": [
      "You are using pip version 9.0.1, however version 19.3.1 is available.\n",
      "You should consider upgrading via the 'python -m pip install --upgrade pip' command.\n"
     ]
    }
   ],
   "source": [
    "#!pip install mysql\n",
    "#!pip install mysql-connector-python-rf\n",
    "#import warnings\n",
    "#warnings.filterwarnings(\"ignore\")"
   ]
  },
  {
   "cell_type": "code",
   "execution_count": 155,
   "metadata": {
    "collapsed": true
   },
   "outputs": [],
   "source": [
    "from flask import Flask\n",
    "from flask import url_for, render_template, request, redirect\n",
    "import mysql.connector as mysql\n",
    "\n"
   ]
  },
  {
   "cell_type": "code",
   "execution_count": 156,
   "metadata": {
    "collapsed": true
   },
   "outputs": [],
   "source": [
    "session = {}\n",
    "session['username'] = None"
   ]
  },
  {
   "cell_type": "code",
   "execution_count": 167,
   "metadata": {
    "collapsed": true
   },
   "outputs": [],
   "source": [
    "app = Flask(__name__)"
   ]
  },
  {
   "cell_type": "code",
   "execution_count": 168,
   "metadata": {
    "collapsed": true
   },
   "outputs": [],
   "source": [
    "con = mysql.connect(user = 'root', password = 'password', \n",
    "                    host = '127.0.0.1', database = 'db_proj', #database = 'task_manager'\n",
    "                   auth_plugin='mysql_native_password')\n",
    "cur = con.cursor(dictionary=True)"
   ]
  },
  {
   "cell_type": "code",
   "execution_count": 169,
   "metadata": {
    "collapsed": true
   },
   "outputs": [],
   "source": [
    "@app.route('/home', methods=['GET', 'POST'])\n",
    "def index():\n",
    "    if session['username'] == None:\n",
    "        return render_template('home.html')\n",
    "    else:\n",
    "        tasks = []\n",
    "        importance = []\n",
    "        statuses = []\n",
    "        ids = []\n",
    "        base_string = \"SELECT id, task, importance, status FROM (SELECT user_tasks.id_user_task as \\'id\\', tasks_list.task_name as \\'task\\', importance_list.importance_name as \\'importance\\',\\\n",
    "status_list.status_name as \\'status\\' FROM user_tasks, users_list, tasks_list, status_list, db_proj.importance_list \\\n",
    "WHERE users_list.username = '\" + session['username'] + \"' and users_list.id_user = user_tasks.id_user \\\n",
    "and tasks_list.id_task = user_tasks.id_task and status_list.id_status = user_tasks.id_status \\\n",
    "and importance_list.id_importance = user_tasks.id_importance) as t\"\n",
    "        if request.method == \"POST\":\n",
    "            det = request.form\n",
    "##            with open ('test.txt', 'a') as f:\n",
    "##                f.write(det['importance1'])\n",
    "            importance_list = []\n",
    "            status_list = []\n",
    "            if 'importance1' in det:\n",
    "                importance_list.append(det['importance1'])\n",
    "            if 'importance2' in det:\n",
    "                importance_list.append(det['importance2'])\n",
    "            if 'importance3' in det:\n",
    "                importance_list.append(det['importance3'])\n",
    "    \n",
    "            if 'status1' in det:\n",
    "                status_list.append(det['status1'])\n",
    "            if 'status2' in det:\n",
    "                status_list.append(det['status2'])\n",
    "            if 'status3' in det:\n",
    "                status_list.append(det['status3'])\n",
    "           \n",
    "            if not importance_list and not status_list:\n",
    "                 \n",
    "                cur.execute(base_string)\n",
    "                result = cur.fetchall()\n",
    "            else:\n",
    "                base_string += ' WHERE ('\n",
    "                if importance_list:\n",
    "                    for i, element in enumerate(importance_list):\n",
    "                        base_string = base_string + 'importance = \\'' + element + '\\''\n",
    "                        if i != len(importance_list) - 1:\n",
    "                            base_string += ' OR '\n",
    "                        else:\n",
    "                            base_string += ')'\n",
    "                if status_list:\n",
    "                    if importance_list:\n",
    "                        base_string += ' AND ('\n",
    "                    for i, element in enumerate(status_list):\n",
    "                        base_string = base_string + 'status = \\'' + element + '\\''\n",
    "                        if i != len(status_list) - 1:\n",
    "                            base_string += ' OR '\n",
    "                        else:\n",
    "                            base_string += ')'\n",
    "            cur.execute(base_string)  \n",
    "            result = cur.fetchall()\n",
    "        else:\n",
    "            cur.execute(base_string)\n",
    "            result = cur.fetchall()\n",
    "        data = []\n",
    "        for res in result:\n",
    "            elem = [res['task'], res['importance'], res['status'], res['id']]\n",
    "            data.append(elem)\n",
    "#            ids.append(res['id'])\n",
    "#            tasks.append(res['task'])\n",
    "#            importance.append(res['importance'])\n",
    "#            statuses.append(res['status'])\n",
    "        return render_template('home_logged_in.html', data = data)"
   ]
  },
  {
   "cell_type": "code",
   "execution_count": 170,
   "metadata": {},
   "outputs": [],
   "source": [
    "@app.route('/friends_tasks', methods=['GET', 'POST'])\n",
    "def my_friends_tasks():\n",
    "    tasks = []\n",
    "    importance = []\n",
    "    statuses = []\n",
    "    ids = []\n",
    "    \n",
    "    # еще джойн (получаем список юзернеймов друзей юзера):\n",
    "    cur.execute(\"SELECT username from users_list \\\n",
    "                JOIN (select id2 from users_list, user_relations \\\n",
    "                where id1 = id_user and username = '\" + session['username'] + \"') as f_id \\\n",
    "                ON id2 = id_user\")  \n",
    "    res = cur.fetchall()\n",
    "    friends_list = [result['username'] for result in res]\n",
    "    \n",
    "    if friends_list == []: # если нет никаких друзей\n",
    "        return render_template('no_friends.html')\n",
    "    \n",
    "    else: # если есть хотя бы один друг\n",
    "        base_string = \"SELECT username, task, importance, status FROM \\\n",
    "        (SELECT username, tasks_list.task_name as 'task', \\\n",
    "        importance_list.importance_name as 'importance', status_list.status_name as 'status' \\\n",
    "        FROM user_tasks, users_list, tasks_list, status_list, db_proj.importance_list \\\n",
    "        WHERE (\"\n",
    "        for id_f, f_username in enumerate(friends_list):\n",
    "            base_string = base_string + \"users_list.username = '\" + f_username + \"'\"\n",
    "            if id_f != len(friends_list) - 1:\n",
    "                base_string += ' OR '\n",
    "            else:\n",
    "                base_string += ')'\n",
    "        end_of_subquery = \" and users_list.id_user = user_tasks.id_user \\\n",
    "        and tasks_list.id_task = user_tasks.id_task and status_list.id_status = user_tasks.id_status \\\n",
    "        and importance_list.id_importance = user_tasks.id_importance) as t\"\n",
    "        base_string += end_of_subquery\n",
    "        \n",
    "        if request.method == \"POST\":\n",
    "            det = request.form\n",
    "            importance_list = []\n",
    "            status_list = []\n",
    "            friend = det['friend']\n",
    "        \n",
    "            if 'importance1' in det:\n",
    "                importance_list.append(det['importance1'])\n",
    "            if 'importance2' in det:\n",
    "                importance_list.append(det['importance2'])\n",
    "            if 'importance3' in det:\n",
    "                importance_list.append(det['importance3'])\n",
    "    \n",
    "            if 'status1' in det:\n",
    "                status_list.append(det['status1'])\n",
    "            if 'status2' in det:\n",
    "                status_list.append(det['status2'])\n",
    "            if 'status3' in det:\n",
    "                status_list.append(det['status3'])\n",
    "           \n",
    "            if not importance_list and not status_list and friend == 'all':            \n",
    "                cur.execute(base_string)\n",
    "                result = cur.fetchall()\n",
    "            else:\n",
    "                base_string += ' WHERE ('\n",
    "                if importance_list:\n",
    "                    for i, element in enumerate(importance_list):\n",
    "                        base_string = base_string + \"importance = '\" + element + \"'\"\n",
    "                        if i != len(importance_list) - 1:\n",
    "                            base_string += ' OR '\n",
    "                        else:\n",
    "                            base_string += ')'\n",
    "                if status_list:\n",
    "                    if importance_list:\n",
    "                        base_string += ' AND ('\n",
    "                    for i, element in enumerate(status_list):\n",
    "                        base_string = base_string + \"status = '\" + element + \"'\"\n",
    "                        if i != len(status_list) - 1:\n",
    "                            base_string += ' OR '\n",
    "                        else:\n",
    "                            base_string += ')'\n",
    "                if friend != 'all':\n",
    "                    if importance_list or status_list:\n",
    "                        base_string = base_string + \" AND (username = '\" + friend + \"')\"\n",
    "                    else:\n",
    "                        base_string = base_string + \"username = '\" + friend + \"')\"\n",
    "                        \n",
    "            cur.execute(base_string)  \n",
    "            result = cur.fetchall()\n",
    "        else:\n",
    "            cur.execute(base_string)\n",
    "            result = cur.fetchall()\n",
    "        data = []\n",
    "        for res in result:\n",
    "            elem = [res['task'], res['importance'], res['status'], res['username']]\n",
    "            data.append(elem)\n",
    "\n",
    "        return render_template('friends_tasks.html', data = data, friends = friends_list)"
   ]
  },
  {
   "cell_type": "code",
   "execution_count": 171,
   "metadata": {
    "collapsed": true
   },
   "outputs": [],
   "source": [
    "@app.route('/signup', methods=['GET', 'POST'])\n",
    "def sign_up():\n",
    "    if request.method == \"GET\":\n",
    "        details = request.form\n",
    "        username = details['username']\n",
    "        password = details['password']\n",
    "        cur.execute(\"INSERT INTO users_list (username, password) VALUES (%s, %s)\", (username, password))\n",
    "        con.commit()\n",
    "        cur.close()\n",
    "        return redirect('login')\n",
    "    return render_template('sign_up.html')"
   ]
  },
  {
   "cell_type": "code",
   "execution_count": 172,
   "metadata": {
    "collapsed": true
   },
   "outputs": [],
   "source": [
    "@app.route('/login', methods=['GET', 'POST'])\n",
    "def login():\n",
    "    if request.method == \"POST\":\n",
    "        details = request.form\n",
    "        username = details['username']\n",
    "        password = details['password']\n",
    "        cur.execute(\"SELECT * FROM users_list\")\n",
    "        users = cur.fetchall()\n",
    "        user_exists = 0\n",
    "        for i in users:\n",
    "            if i['username'] == username:\n",
    "                user_exists = 1\n",
    "                if i['password'] == password:\n",
    "                    session['username'] = username\n",
    "                    return redirect('home')\n",
    "                else:\n",
    "                    return ('Неправильный пароль.')\n",
    "        if user_exists == 1:\n",
    "            return redirect ('home')\n",
    "        else:\n",
    "            return ('Такого пользователя пока нет.')\n",
    "    return render_template('login.html')"
   ]
  },
  {
   "cell_type": "code",
   "execution_count": 173,
   "metadata": {
    "collapsed": true
   },
   "outputs": [],
   "source": [
    "@app.route('/new_task', methods=['GET', 'POST'])\n",
    "def new_task(): \n",
    "    if request.method == \"POST\":\n",
    "        details = request.form\n",
    "        cur.execute(\"SELECT id_user FROM users_list WHERE username = '\" + session['username'] + \"'\")\n",
    "        res = cur.fetchone()\n",
    "        id_user = res['id_user']\n",
    "\n",
    "##        cur.execute(\"SELECT id_task FROM tasks_list WHERE task_name = '\" + details['tasks'] + \"'\")\n",
    "##        res = cur.fetchone()\n",
    "##       id_task = res['id_task']\n",
    "        \n",
    "        cur.execute(\"SELECT id_status FROM status_list WHERE status_name = '\" + details['status'] + \"'\")\n",
    "        res = cur.fetchone()\n",
    "        id_status = res['id_status']\n",
    "        \n",
    "        cur.execute(\"SELECT id_importance FROM importance_list WHERE importance_name = '\" + details['importance'] + \"'\")\n",
    "        res = cur.fetchone()\n",
    "        id_importance = res['id_importance']\n",
    "        \n",
    "        cur.execute(\"SELECT task_name, id_task FROM tasks_list\")\n",
    "        res = cur.fetchall()\n",
    "        task_exists = 0\n",
    "        for i in res:\n",
    "            if i['task_name'] == details['tasks']:\n",
    "                task_exists = 1\n",
    "                id_task = i['id_task']\n",
    "        if task_exists == 0:        \n",
    "            cur.execute(\"INSERT INTO tasks_list (task_name) VALUES ('\" + details['tasks'] + \"')\")\n",
    "            cur.execute(\"SELECT id_task FROM tasks_list WHERE task_name = '\" + details['tasks'] + \"'\")\n",
    "            res = cur.fetchone()\n",
    "            id_task = res['id_task']\n",
    "        data = (id_user, id_task, id_status, id_importance)\n",
    "        cur.execute(\"INSERT INTO user_tasks (id_user, id_task, id_status, id_importance) VALUES (%s, %s, %s, %s)\", data)\n",
    "        con.commit()\n",
    "        return redirect('home')\n",
    "    importance = []\n",
    "    status = []\n",
    "    cur.execute(\"SELECT importance_name FROM importance_list\")\n",
    "    res = cur.fetchall()\n",
    "    for i in res:\n",
    "        importance.append(i['importance_name'])\n",
    "    cur.execute(\"SELECT status_name FROM status_list\")\n",
    "    res = cur.fetchall()\n",
    "    for i in res:\n",
    "        status.append(i['status_name'])\n",
    "    return render_template('new_task.html', status = status, importance = importance)"
   ]
  },
  {
   "cell_type": "code",
   "execution_count": 174,
   "metadata": {
    "collapsed": true
   },
   "outputs": [],
   "source": [
    "@app.route('/update', methods=['GET', 'POST'])\n",
    "def update_task():\n",
    "    user_task_id = request.args.get('id') # должно быть в этом месте\n",
    "    if request.method == \"GET\":\n",
    "        # ура, джойн!:\n",
    "        cur.execute(\"select task_name from tasks_list join user_tasks on \\\n",
    "        user_tasks.id_task = tasks_list.id_task and id_user_task = \" + user_task_id)\n",
    "        res = cur.fetchone()\n",
    "        task = res['task_name']\n",
    "    if request.method == \"POST\":\n",
    "        details = request.form\n",
    "        \n",
    "        cur.execute(\"SELECT id_status FROM status_list WHERE status_name = '\" + details['status'] + \"'\")\n",
    "        res = cur.fetchone()\n",
    "        id_status = res['id_status']\n",
    "        \n",
    "        cur.execute(\"SELECT id_importance FROM importance_list WHERE importance_name = '\" + details['importance'] + \"'\")\n",
    "        res = cur.fetchone()\n",
    "        id_importance = res['id_importance']\n",
    "        \n",
    "        cur.execute(\"UPDATE user_tasks SET id_status = \" + str(id_status) + \", id_importance = \" + str(id_importance) + \" \\\n",
    "        WHERE id_user_task = \" + str(user_task_id))\n",
    "        con.commit()\n",
    "        return redirect('home')\n",
    "    \n",
    "    importance = []\n",
    "    status = []\n",
    "    cur.execute(\"SELECT importance_name FROM importance_list\")\n",
    "    res = cur.fetchall()\n",
    "    for i in res:\n",
    "        importance.append(i['importance_name'])\n",
    "    cur.execute(\"SELECT status_name FROM status_list\")\n",
    "    res = cur.fetchall()\n",
    "    for i in res:\n",
    "        status.append(i['status_name'])\n",
    "    return render_template('update_task.html', status = status, importance = importance, task = task)"
   ]
  },
  {
   "cell_type": "code",
   "execution_count": 175,
   "metadata": {
    "collapsed": true
   },
   "outputs": [],
   "source": [
    "@app.route('/delete', methods=['POST', 'GET'])\n",
    "def delete():\n",
    "    if request.args.get('id'):\n",
    "        task_id = request.args.get('id')\n",
    "        cur.execute(\"DELETE FROM user_tasks WHERE id_user_task = '\" + task_id + \"'\")\n",
    "        con.commit()\n",
    "        return redirect('home')\n",
    "    else:\n",
    "        return('this page is meant to delete something')        "
   ]
  },
  {
   "cell_type": "code",
   "execution_count": 176,
   "metadata": {},
   "outputs": [
    {
     "name": "stderr",
     "output_type": "stream",
     "text": [
      " * Running on http://127.0.0.1:5000/ (Press CTRL+C to quit)\n",
      "127.0.0.1 - - [26/Dec/2019 04:56:01] \"\u001b[37mGET /login HTTP/1.1\u001b[0m\" 200 -\n",
      "127.0.0.1 - - [26/Dec/2019 04:56:11] \"\u001b[32mPOST /login HTTP/1.1\u001b[0m\" 302 -\n",
      "127.0.0.1 - - [26/Dec/2019 04:56:11] \"\u001b[37mGET /home HTTP/1.1\u001b[0m\" 200 -\n",
      "127.0.0.1 - - [26/Dec/2019 04:56:35] \"\u001b[37mGET /friends_tasks HTTP/1.1\u001b[0m\" 200 -\n",
      "127.0.0.1 - - [26/Dec/2019 04:56:46] \"\u001b[37mPOST /friends_tasks HTTP/1.1\u001b[0m\" 200 -\n",
      "127.0.0.1 - - [26/Dec/2019 04:57:01] \"\u001b[37mPOST /friends_tasks HTTP/1.1\u001b[0m\" 200 -\n",
      "127.0.0.1 - - [26/Dec/2019 04:57:05] \"\u001b[37mGET /login HTTP/1.1\u001b[0m\" 200 -\n",
      "127.0.0.1 - - [26/Dec/2019 04:57:16] \"\u001b[32mPOST /login HTTP/1.1\u001b[0m\" 302 -\n",
      "127.0.0.1 - - [26/Dec/2019 04:57:16] \"\u001b[37mGET /home HTTP/1.1\u001b[0m\" 200 -\n",
      "127.0.0.1 - - [26/Dec/2019 04:57:18] \"\u001b[37mGET /friends_tasks HTTP/1.1\u001b[0m\" 200 -\n",
      "127.0.0.1 - - [26/Dec/2019 04:57:23] \"\u001b[37mGET /login HTTP/1.1\u001b[0m\" 200 -\n",
      "127.0.0.1 - - [26/Dec/2019 04:57:31] \"\u001b[32mPOST /login HTTP/1.1\u001b[0m\" 302 -\n",
      "127.0.0.1 - - [26/Dec/2019 04:57:31] \"\u001b[37mGET /home HTTP/1.1\u001b[0m\" 200 -\n",
      "127.0.0.1 - - [26/Dec/2019 04:57:33] \"\u001b[37mGET /friends_tasks HTTP/1.1\u001b[0m\" 200 -\n",
      "127.0.0.1 - - [26/Dec/2019 04:57:41] \"\u001b[37mPOST /friends_tasks HTTP/1.1\u001b[0m\" 200 -\n",
      "127.0.0.1 - - [26/Dec/2019 04:57:51] \"\u001b[37mPOST /friends_tasks HTTP/1.1\u001b[0m\" 200 -\n",
      "127.0.0.1 - - [26/Dec/2019 04:58:01] \"\u001b[37mPOST /friends_tasks HTTP/1.1\u001b[0m\" 200 -\n",
      "127.0.0.1 - - [26/Dec/2019 04:58:05] \"\u001b[37mPOST /friends_tasks HTTP/1.1\u001b[0m\" 200 -\n",
      "127.0.0.1 - - [26/Dec/2019 04:58:05] \"\u001b[37mPOST /friends_tasks HTTP/1.1\u001b[0m\" 200 -\n",
      "127.0.0.1 - - [26/Dec/2019 04:58:11] \"\u001b[37mPOST /friends_tasks HTTP/1.1\u001b[0m\" 200 -\n",
      "127.0.0.1 - - [26/Dec/2019 04:58:21] \"\u001b[37mPOST /friends_tasks HTTP/1.1\u001b[0m\" 200 -\n",
      "127.0.0.1 - - [26/Dec/2019 04:58:36] \"\u001b[37mPOST /friends_tasks HTTP/1.1\u001b[0m\" 200 -\n",
      "127.0.0.1 - - [26/Dec/2019 04:58:38] \"\u001b[37mGET /login HTTP/1.1\u001b[0m\" 200 -\n",
      "127.0.0.1 - - [26/Dec/2019 04:58:56] \"\u001b[32mPOST /login HTTP/1.1\u001b[0m\" 302 -\n",
      "127.0.0.1 - - [26/Dec/2019 04:58:56] \"\u001b[37mGET /home HTTP/1.1\u001b[0m\" 200 -\n",
      "127.0.0.1 - - [26/Dec/2019 04:59:01] \"\u001b[37mGET /friends_tasks HTTP/1.1\u001b[0m\" 200 -\n",
      "127.0.0.1 - - [26/Dec/2019 04:59:09] \"\u001b[37mGET /new_task HTTP/1.1\u001b[0m\" 200 -\n",
      "127.0.0.1 - - [26/Dec/2019 04:59:31] \"\u001b[32mPOST /new_task HTTP/1.1\u001b[0m\" 302 -\n",
      "127.0.0.1 - - [26/Dec/2019 04:59:31] \"\u001b[37mGET /home HTTP/1.1\u001b[0m\" 200 -\n",
      "127.0.0.1 - - [26/Dec/2019 04:59:41] \"\u001b[37mGET /friends_tasks HTTP/1.1\u001b[0m\" 200 -\n",
      "127.0.0.1 - - [26/Dec/2019 04:59:46] \"\u001b[37mGET /login HTTP/1.1\u001b[0m\" 200 -\n",
      "127.0.0.1 - - [26/Dec/2019 04:59:56] \"\u001b[32mPOST /login HTTP/1.1\u001b[0m\" 302 -\n",
      "127.0.0.1 - - [26/Dec/2019 04:59:56] \"\u001b[37mGET /home HTTP/1.1\u001b[0m\" 200 -\n",
      "127.0.0.1 - - [26/Dec/2019 05:00:00] \"\u001b[37mGET /friends_tasks HTTP/1.1\u001b[0m\" 200 -\n",
      "127.0.0.1 - - [26/Dec/2019 05:00:11] \"\u001b[37mPOST /friends_tasks HTTP/1.1\u001b[0m\" 200 -\n",
      "127.0.0.1 - - [26/Dec/2019 05:00:16] \"\u001b[37mPOST /friends_tasks HTTP/1.1\u001b[0m\" 200 -\n"
     ]
    }
   ],
   "source": [
    "if __name__ == '__main__':\n",
    "    app.run(debug=False)"
   ]
  },
  {
   "cell_type": "markdown",
   "metadata": {
    "collapsed": true
   },
   "source": [
    "Ниже фигня"
   ]
  },
  {
   "cell_type": "code",
   "execution_count": 131,
   "metadata": {},
   "outputs": [
    {
     "data": {
      "text/plain": [
       "['fishowl', 'mashasuvorova']"
      ]
     },
     "execution_count": 131,
     "metadata": {},
     "output_type": "execute_result"
    }
   ],
   "source": [
    "cur.execute(\"select username from users_list \\\n",
    "            join (select id2 from users_list, user_relations \\\n",
    "            where id1 = id_user and username = 'mcqueen') as f_id \\\n",
    "            on id2 = id_user\")  \n",
    "res = cur.fetchall()\n",
    "friends_list = [result['username'] for result in res]\n",
    "friends_list"
   ]
  },
  {
   "cell_type": "code",
   "execution_count": 133,
   "metadata": {},
   "outputs": [
    {
     "name": "stdout",
     "output_type": "stream",
     "text": [
      "SELECT username, task, importance, status FROM (SELECT username, tasks_list.task_name as 'task', importance_list.importance_name as 'importance', status_list.status_name as 'status' FROM user_tasks, users_list, tasks_list, status_list, db_proj.importance_list WHERE (users_list.username = 'fishowl' OR users_list.username = 'mashasuvorova') and users_list.id_user = user_tasks.id_user and     tasks_list.id_task = user_tasks.id_task and status_list.id_status = user_tasks.id_status and     importance_list.id_importance = user_tasks.id_importance) as t WHERE (importance = 'важно' OR importance = 'не очень важно') AND (status = 'закончено')\n"
     ]
    },
    {
     "data": {
      "text/plain": [
       "[{'importance': 'не очень важно',\n",
       "  'status': 'закончено',\n",
       "  'task': 'вырезать снежинку',\n",
       "  'username': 'fishowl'}]"
      ]
     },
     "execution_count": 133,
     "metadata": {},
     "output_type": "execute_result"
    }
   ],
   "source": [
    "base_string = \"SELECT username, task, importance, status FROM \\\n",
    "(SELECT username, tasks_list.task_name as 'task', \\\n",
    "importance_list.importance_name as 'importance', status_list.status_name as 'status' \\\n",
    "FROM user_tasks, users_list, tasks_list, status_list, db_proj.importance_list \\\n",
    "WHERE (\"\n",
    "for id_f, friend in enumerate(friends_list):\n",
    "    \n",
    "    base_string = base_string + \"users_list.username = '\" + friend + \"'\"\n",
    "    if id_f != len(friends_list) - 1:\n",
    "        base_string += ' OR '\n",
    "    else:\n",
    "        base_string += ')'\n",
    "        \n",
    "if True == True:\n",
    "    base_string_end = \" and users_list.id_user = user_tasks.id_user and \\\n",
    "    tasks_list.id_task = user_tasks.id_task and status_list.id_status = user_tasks.id_status and \\\n",
    "    importance_list.id_importance = user_tasks.id_importance) as t\"\n",
    "#print(base_string)\n",
    "    base_string += base_string_end\n",
    "\n",
    "    importance_list = ['важно', 'не очень важно']\n",
    "    status_list = ['закончено']\n",
    "    friend = None\n",
    "\n",
    "    if not importance_list and not status_list and not friend:            \n",
    "        cur.execute(base_string)\n",
    "        result = cur.fetchall()\n",
    "    else:\n",
    "        base_string += ' WHERE ('\n",
    "        if importance_list:\n",
    "            for i, element in enumerate(importance_list):\n",
    "                base_string = base_string + \"importance = '\" + element + \"'\"\n",
    "                if i != len(importance_list) - 1:\n",
    "                    base_string += ' OR '\n",
    "                else:\n",
    "                    base_string += ')'\n",
    "        if status_list:\n",
    "            if importance_list:\n",
    "                base_string += ' AND ('\n",
    "            for i, element in enumerate(status_list):\n",
    "                base_string = base_string + \"status = '\" + element + \"'\"\n",
    "                if i != len(status_list) - 1:\n",
    "                    base_string += ' OR '\n",
    "                else:\n",
    "                    base_string += ')'\n",
    "        if friend:\n",
    "            if importance_list or status_list:\n",
    "                base_string = base_string + \" AND (username = '\" + friend + \"')\"\n",
    "            else:\n",
    "                base_string = base_string + \"username = '\" + friend + \"')\"\n",
    "\n",
    "print(base_string)\n",
    "cur.execute(base_string)  \n",
    "res = cur.fetchall()\n",
    "res"
   ]
  },
  {
   "cell_type": "code",
   "execution_count": 32,
   "metadata": {},
   "outputs": [
    {
     "name": "stdout",
     "output_type": "stream",
     "text": [
      "[{'username': 'fishowl', 'task': 'вырезать снежинку', 'importance': 'не очень важно', 'status': 'закончено'}]\n"
     ]
    }
   ],
   "source": [
    "cur.execute(\"SELECT username, task, importance, status FROM \\\n",
    "(SELECT username, tasks_list.task_name as 'task', \\\n",
    "importance_list.importance_name as 'importance', \\\n",
    "status_list.status_name as 'status' FROM user_tasks, users_list, tasks_list, status_list, db_proj.importance_list \\\n",
    "WHERE (users_list.username = 'mashasuvorova' or users_list.username = 'fishowl') \\\n",
    "and users_list.id_user = user_tasks.id_user \\\n",
    "and tasks_list.id_task = user_tasks.id_task and status_list.id_status = user_tasks.id_status \\\n",
    "and importance_list.id_importance = user_tasks.id_importance) as t \\\n",
    "WHERE importance = 'не очень важно'\") #\\\n",
    "#and username = 'mashasuvorova'\")\n",
    "res = cur.fetchall()\n",
    "print(res)"
   ]
  },
  {
   "cell_type": "code",
   "execution_count": 20,
   "metadata": {},
   "outputs": [],
   "source": [
    "cur.execute(\"insert into users_list(id_user, username, password) values (4, 'ejouny', 'нееммясо')\")\n",
    "con.commit()"
   ]
  },
  {
   "cell_type": "code",
   "execution_count": 21,
   "metadata": {},
   "outputs": [
    {
     "name": "stdout",
     "output_type": "stream",
     "text": [
      "[{'id_user': 1, 'username': 'fishowl', 'password': 'йцукен'}, {'id_user': 2, 'username': 'mcqueen', 'password': 'фывапро'}, {'id_user': 3, 'username': 'mashasuvorova', 'password': 'колбаса'}, {'id_user': 4, 'username': 'ejouny', 'password': 'нееммясо'}]\n"
     ]
    }
   ],
   "source": [
    "cur.execute('SELECT * FROM db_proj.users_list')\n",
    "res = cur.fetchall()\n",
    "print(res)"
   ]
  },
  {
   "cell_type": "code",
   "execution_count": 30,
   "metadata": {
    "collapsed": true
   },
   "outputs": [],
   "source": [
    "con.commit()"
   ]
  },
  {
   "cell_type": "code",
   "execution_count": 24,
   "metadata": {},
   "outputs": [
    {
     "name": "stdout",
     "output_type": "stream",
     "text": [
      "[{'id_user_relation': 1, 'id1': 1, 'id2': 2}, {'id_user_relation': 2, 'id1': 2, 'id2': 1}, {'id_user_relation': 3, 'id1': 2, 'id2': 3}, {'id_user_relation': 4, 'id1': 3, 'id2': 2}]\n"
     ]
    }
   ],
   "source": [
    "cur.execute(\"SELECT * FROM db_proj.user_relations\")\n",
    "res = cur.fetchall()\n",
    "print(res)"
   ]
  },
  {
   "cell_type": "code",
   "execution_count": 7,
   "metadata": {},
   "outputs": [
    {
     "name": "stdout",
     "output_type": "stream",
     "text": [
      "UPDATE user_tasks SET id_status = 3, id_importance = 3 WHERE id_user_task = 1\n",
      "UPDATE user_tasks SET id_status = 3, id_importance = 3 WHERE id_user_task = 1\n"
     ]
    }
   ],
   "source": [
    "id_status = 3\n",
    "id_importance = 3\n",
    "user_task_id = 1\n",
    "query = \"UPDATE user_tasks SET id_status = \" + str(id_status) + \", id_importance = \" + str(id_importance) + \" WHERE id_user_task = \" + str(user_task_id)\n",
    "print(query)\n",
    "cur.execute(query)\n",
    "print(query)"
   ]
  },
  {
   "cell_type": "code",
   "execution_count": 393,
   "metadata": {},
   "outputs": [
    {
     "data": {
      "text/plain": [
       "[{'id_user_task': 1,\n",
       "  'importance': 'очень важно',\n",
       "  'status': 'в процессе',\n",
       "  'task': 'вырезать снежинку'},\n",
       " {'id_user_task': 3,\n",
       "  'importance': 'очень важно',\n",
       "  'status': 'не начато',\n",
       "  'task': 'сделать домашку'},\n",
       " {'id_user_task': 14,\n",
       "  'importance': 'не очень важно',\n",
       "  'status': 'не начато',\n",
       "  'task': 'сделать домашку'},\n",
       " {'id_user_task': 16,\n",
       "  'importance': 'важно',\n",
       "  'status': 'не начато',\n",
       "  'task': 'записаться к стоматологу'},\n",
       " {'id_user_task': 17,\n",
       "  'importance': 'очень важно',\n",
       "  'status': 'в процессе',\n",
       "  'task': 'приготовить ужин'},\n",
       " {'id_user_task': 18,\n",
       "  'importance': 'не очень важно',\n",
       "  'status': 'в процессе',\n",
       "  'task': 'приготовить ужин'},\n",
       " {'id_user_task': 19,\n",
       "  'importance': 'не очень важно',\n",
       "  'status': 'в процессе',\n",
       "  'task': 'приготовить ужин'},\n",
       " {'id_user_task': 20,\n",
       "  'importance': 'очень важно',\n",
       "  'status': 'в процессе',\n",
       "  'task': 'перебрать рис'},\n",
       " {'id_user_task': 21,\n",
       "  'importance': 'не очень важно',\n",
       "  'status': 'не начато',\n",
       "  'task': 'помыть полы'},\n",
       " {'id_user_task': 22,\n",
       "  'importance': 'не очень важно',\n",
       "  'status': 'не начато',\n",
       "  'task': 'сделать домашку'}]"
      ]
     },
     "execution_count": 393,
     "metadata": {},
     "output_type": "execute_result"
    }
   ],
   "source": [
    "tasks = []\n",
    "importance = []\n",
    "statuses = []\n",
    "\n",
    "cur.execute(\"SELECT user_tasks.id_user_task, tasks_list.task_name as \\'task\\', importance_list.importance_name as \\'importance\\',\\\n",
    "status_list.status_name as \\'status\\' FROM user_tasks, users_list, tasks_list, status_list, db_proj.importance_list \\\n",
    "WHERE users_list.username = '\" + session['username'] + \"' and users_list.id_user = user_tasks.id_user \\\n",
    "and tasks_list.id_task = user_tasks.id_task and status_list.id_status = user_tasks.id_status \\\n",
    "and importance_list.id_importance = user_tasks.id_importance\")\n",
    "result = cur.fetchall()\n",
    "result"
   ]
  },
  {
   "cell_type": "code",
   "execution_count": 231,
   "metadata": {},
   "outputs": [
    {
     "data": {
      "text/plain": [
       "[{'importance': 'очень важно',\n",
       "  'status': 'не начато',\n",
       "  'task': 'сделать домашку'},\n",
       " {'importance': 'не очень важно',\n",
       "  'status': 'не начато',\n",
       "  'task': 'сделать домашку'}]"
      ]
     },
     "execution_count": 231,
     "metadata": {},
     "output_type": "execute_result"
    }
   ],
   "source": [
    "cur.execute(\"SELECT tasks_list.task_name as \\'task\\', importance_list.importance_name as \\'importance\\',\\\n",
    "status_list.status_name as \\'status\\' FROM user_tasks, users_list, tasks_list, status_list, db_proj.importance_list \\\n",
    "WHERE users_list.username = '\" + 'fishowl' + \"' and users_list.id_user = user_tasks.id_user \\\n",
    "and tasks_list.id_task = user_tasks.id_task and status_list.id_status = user_tasks.id_status \\\n",
    "and importance_list.id_importance = user_tasks.id_importance\")\n",
    "result = cur.fetchall()\n",
    "result"
   ]
  },
  {
   "cell_type": "code",
   "execution_count": 101,
   "metadata": {},
   "outputs": [
    {
     "name": "stdout",
     "output_type": "stream",
     "text": [
      "SELECT task, importance, status FROM (SELECT tasks_list.task_name as 'task', importance_list.importance_name as 'importance',status_list.status_name as 'status' FROM user_tasks, users_list, tasks_list, status_list, db_proj.importance_list WHERE users_list.username = 'fishowl' and users_list.id_user = user_tasks.id_user and tasks_list.id_task = user_tasks.id_task and status_list.id_status = user_tasks.id_status and importance_list.id_importance = user_tasks.id_importance) as t WHERE (importance = 'важно' OR importance = 'очень важно') AND (status = 'в процессе')\n"
     ]
    }
   ],
   "source": [
    "importance_list = ['важно', 'очень важно']\n",
    "status_list = ['в процессе']\n",
    "base_string = \"SELECT task, importance, status FROM (SELECT tasks_list.task_name as \\'task\\', importance_list.importance_name as \\'importance\\',\\\n",
    "status_list.status_name as \\'status\\' FROM user_tasks, users_list, tasks_list, status_list, db_proj.importance_list \\\n",
    "WHERE users_list.username = '\" + session['username'] + \"' and users_list.id_user = user_tasks.id_user \\\n",
    "and tasks_list.id_task = user_tasks.id_task and status_list.id_status = user_tasks.id_status \\\n",
    "and importance_list.id_importance = user_tasks.id_importance) as t\"\n",
    "\n",
    "if not importance_list and not status_list:\n",
    "    cur.execute(base_string)\n",
    "else:\n",
    "    base_string += ' WHERE ('\n",
    "    if importance_list:\n",
    "        for i, element in enumerate(importance_list):\n",
    "            base_string = base_string + 'importance = \\'' + element + '\\''\n",
    "            if i != len(importance_list) - 1:\n",
    "                base_string += ' OR '\n",
    "            else:\n",
    "                base_string += ')'\n",
    "    if status_list:\n",
    "        if importance_list:\n",
    "            base_string += ' AND ('\n",
    "        for i, element in enumerate(status_list):\n",
    "            base_string = base_string + 'status = \\'' + element + '\\''\n",
    "            if i != len(status_list) - 1:\n",
    "                base_string += ' OR '\n",
    "            else:\n",
    "                base_string += ')'\n",
    "        \n",
    "cur.execute(base_string)  \n",
    "result = cur.fetchall()\n",
    "\n",
    "print(base_string)"
   ]
  },
  {
   "cell_type": "code",
   "execution_count": null,
   "metadata": {
    "collapsed": true
   },
   "outputs": [],
   "source": []
  }
 ],
 "metadata": {
  "kernelspec": {
   "display_name": "Python 3",
   "language": "python",
   "name": "python3"
  },
  "language_info": {
   "codemirror_mode": {
    "name": "ipython",
    "version": 3
   },
   "file_extension": ".py",
   "mimetype": "text/x-python",
   "name": "python",
   "nbconvert_exporter": "python",
   "pygments_lexer": "ipython3",
   "version": "3.6.1"
  }
 },
 "nbformat": 4,
 "nbformat_minor": 2
}
